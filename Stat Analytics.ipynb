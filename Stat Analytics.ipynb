{
 "cells": [
  {
   "cell_type": "code",
   "execution_count": 1,
   "metadata": {
    "collapsed": true
   },
   "outputs": [],
   "source": [
    "import pyspark\n",
    "sc = pyspark.SparkContext()\n",
    "sqlContext = pyspark.SQLContext(sc)"
   ]
  },
  {
   "cell_type": "code",
   "execution_count": 2,
   "metadata": {
    "collapsed": true
   },
   "outputs": [],
   "source": [
    "stat_all = sqlContext.read.format('csv').options(header='true', inferSchema='true').load('getstat_com_serp_report_201707.csv')\n"
   ]
  },
  {
   "cell_type": "code",
   "execution_count": 3,
   "metadata": {
    "collapsed": true
   },
   "outputs": [],
   "source": [
    "stat = sqlContext.sql('CREATE  TABLE stat USING csv OPTIONS (path \"getstat_com_serp_report_201707.csv\", header \"true\", mode \"FAILFAST\")')"
   ]
  },
  {
   "cell_type": "code",
   "execution_count": 5,
   "metadata": {},
   "outputs": [
    {
     "data": {
      "text/plain": [
       "[Row(Keyword='search analytics', Market='US-en', Location=None, Device='desktop', Crawl Date=datetime.datetime(2017, 7, 1, 0, 0), Rank=1, URL='support.google.com/webmasters/answer/6155685?hl=en'),\n",
       " Row(Keyword='search analytics', Market='US-en', Location=None, Device='desktop', Crawl Date=datetime.datetime(2017, 7, 1, 0, 0), Rank=2, URL='trends.google.com/'),\n",
       " Row(Keyword='search analytics', Market='US-en', Location=None, Device='desktop', Crawl Date=datetime.datetime(2017, 7, 1, 0, 0), Rank=3, URL='developers.google.com/webmaster-tools/search-console-api-original/v3/searchanalytics'),\n",
       " Row(Keyword='search analytics', Market='US-en', Location=None, Device='desktop', Crawl Date=datetime.datetime(2017, 7, 1, 0, 0), Rank=4, URL='en.wikipedia.org/wiki/Search_analytics'),\n",
       " Row(Keyword='search analytics', Market='US-en', Location=None, Device='desktop', Crawl Date=datetime.datetime(2017, 7, 1, 0, 0), Rank=5, URL='searchengineland.com/google-officially-launches-the-new-search-analytics-report-in-webmaster-tools-220421')]"
      ]
     },
     "execution_count": 5,
     "metadata": {},
     "output_type": "execute_result"
    }
   ],
   "source": [
    "stat_all.take(5)"
   ]
  },
  {
   "cell_type": "code",
   "execution_count": null,
   "metadata": {
    "collapsed": true
   },
   "outputs": [],
   "source": []
  }
 ],
 "metadata": {
  "kernelspec": {
   "display_name": "Python 3",
   "language": "python",
   "name": "python3"
  },
  "language_info": {
   "codemirror_mode": {
    "name": "ipython",
    "version": 3
   },
   "file_extension": ".py",
   "mimetype": "text/x-python",
   "name": "python",
   "nbconvert_exporter": "python",
   "pygments_lexer": "ipython3",
   "version": "3.6.2"
  }
 },
 "nbformat": 4,
 "nbformat_minor": 2
}
